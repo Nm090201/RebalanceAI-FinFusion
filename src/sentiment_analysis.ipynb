{
 "cells": [
  {
   "cell_type": "code",
   "execution_count": null,
   "metadata": {},
   "outputs": [],
   "source": [
    "import pandas as pd\n",
    "import yfinance as yf\n",
    "\n",
    "# Load the CSV file\n",
    "file_path = \"top_100_sp500.csv\"\n",
    "data = pd.read_csv(file_path)\n",
    "\n",
    "# Extract unique ticker symbols\n",
    "tickers = data[\"Ticker\"].unique()\n",
    "\n",
    "# Fetch company names using yfinance\n",
    "company_info = []\n",
    "for ticker in tickers:\n",
    "    try:\n",
    "        info = yf.Ticker(ticker).info\n",
    "        company_name = info.get(\"longName\", \"Not Found\")\n",
    "        company_info.append({\"Ticker\": ticker, \"Company Name\": company_name})\n",
    "    except Exception as e:\n",
    "        company_info.append({\"Ticker\": ticker, \"Company Name\": \"Error\"})\n",
    "\n",
    "# Create a DataFrame\n",
    "company_df = pd.DataFrame(company_info)\n",
    "company_df.head()\n",
    "# Save to new CSV file\n",
    "'''output_path = \"ticker_company_names.csv\"\n",
    "company_df.to_csv(output_path, index=False)\n",
    "\n",
    "print(\"File saved successfully at:\", output_path)\n",
    "company_df.head()'''\n"
   ]
  }
 ],
 "metadata": {
  "kernelspec": {
   "display_name": "Python 3",
   "language": "python",
   "name": "python3"
  },
  "language_info": {
   "codemirror_mode": {
    "name": "ipython",
    "version": 3
   },
   "file_extension": ".py",
   "mimetype": "text/x-python",
   "name": "python",
   "nbconvert_exporter": "python",
   "pygments_lexer": "ipython3",
   "version": "3.12.2"
  }
 },
 "nbformat": 4,
 "nbformat_minor": 2
}
